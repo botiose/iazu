{
 "cells": [
  {
   "cell_type": "markdown",
   "metadata": {},
   "source": [
    "<h1>Data Management</h1>"
   ]
  },
  {
   "cell_type": "markdown",
   "metadata": {},
   "source": [
    "<h2>Library Imports & Configurations</h2>"
   ]
  },
  {
   "cell_type": "code",
   "execution_count": 86,
   "metadata": {},
   "outputs": [],
   "source": [
    "from azure.cognitiveservices.vision.customvision.training import (\n",
    "    CustomVisionTrainingClient\n",
    ")\n",
    "from azure.cognitiveservices.vision.customvision.prediction import (\n",
    "    CustomVisionPredictionClient\n",
    ")\n",
    "from azure.cognitiveservices.vision.customvision.training.models import (\n",
    "    ImageUrlCreateBatch,\n",
    "    ImageUrlCreateEntry, \n",
    "    Region,\n",
    "    Tag\n",
    ")\n",
    "from azure.storage.blob import ContainerClient\n",
    "from msrest.authentication import ApiKeyCredentials\n",
    "import os, time, uuid, json, urllib, glob, shutil\n",
    "import matplotlib.pyplot as plt\n",
    "import matplotlib.image as mpimg"
   ]
  },
  {
   "cell_type": "code",
   "execution_count": 78,
   "metadata": {},
   "outputs": [],
   "source": [
    "base_dir = \"/home/otiose/repos/epita/iazu/data-management/\"\n",
    "config_path = base_dir + \"config.json\"\n",
    "dtmgt_config = json.load(open(config_path, 'r'))"
   ]
  },
  {
   "cell_type": "markdown",
   "metadata": {},
   "source": [
    "<h2>Listing Files in Storage Account Container</h2>"
   ]
  },
  {
   "cell_type": "code",
   "execution_count": 71,
   "metadata": {},
   "outputs": [],
   "source": [
    "container = ContainerClient.from_container_url(config[\"container_url\"])\n",
    "\n",
    "for tag in config[\"tags\"]:\n",
    "    blobs_list = container.list_blobs(name_starts_with=config[\"image_prefix\"] + \n",
    "                                  tag[\"dir\"])\n",
    "    blobs = [blob.name for blob in blobs_list]"
   ]
  },
  {
   "cell_type": "code",
   "execution_count": 72,
   "metadata": {},
   "outputs": [],
   "source": [
    "config_path = \"/home/otiose/repos/epita/iazu/cognitive-api/config.json\""
   ]
  },
  {
   "cell_type": "code",
   "execution_count": 73,
   "metadata": {},
   "outputs": [],
   "source": [
    "config = json.load(open(config_path, 'r'))"
   ]
  },
  {
   "cell_type": "code",
   "execution_count": 74,
   "metadata": {},
   "outputs": [],
   "source": [
    "credentials = ApiKeyCredentials(in_headers={\"Training-key\": \n",
    "                                            config[\"training_key\"]})\n",
    "trainer = CustomVisionTrainingClient(config[\"endpoint\"], credentials)\n",
    "prediction_credentials = ApiKeyCredentials(\n",
    "    in_headers={\"Prediction-key\": config[\"prediction_key\"]}\n",
    ")\n",
    "predictor = CustomVisionPredictionClient(config[\"endpoint\"], \n",
    "                                         prediction_credentials)"
   ]
  },
  {
   "cell_type": "code",
   "execution_count": 75,
   "metadata": {},
   "outputs": [
    {
     "name": "stdout",
     "output_type": "stream",
     "text": [
      "Creating project...\n"
     ]
    }
   ],
   "source": [
    "print (\"Creating project...\")\n",
    "\n",
    "domains = trainer.get_domains()\n",
    "project = trainer.create_project(\n",
    "    \"Mushroom Classifier Final\", \n",
    "    classification_type=\"Multiclass\",\n",
    "    domain_id = domains[8].id\n",
    ")"
   ]
  },
  {
   "cell_type": "markdown",
   "metadata": {},
   "source": [
    "<h2>Uploading Images from Storage Container to Custom Vision</h2>"
   ]
  },
  {
   "cell_type": "code",
   "execution_count": 97,
   "metadata": {},
   "outputs": [],
   "source": [
    "from os import listdir\n",
    "from os.path import isfile, join\n",
    "\n",
    "image_list = []\n",
    "\n",
    "# deleting tags\n",
    "for tag in trainer.get_tags(project.id):\n",
    "    trainer.delete_tag(project.id, tag.id)\n",
    "    \n",
    "for tag_entry in dtmgt_config[\"tags\"]:\n",
    "    tag = trainer.create_tag(project.id, tag_entry[\"tag\"])\n",
    "    blobs_list = container.list_blobs(\n",
    "        name_starts_with=dtmgt_config[\"image_prefix\"] + tag_entry[\"dir\"]\n",
    "    )\n",
    "    blob_urls = [blob.name for blob in blobs_list]\n",
    "    for url in blob_urls[1:]:\n",
    "        image_list.append(ImageUrlCreateEntry(\n",
    "            url=dtmgt_config[\"container_url\"] + url, \n",
    "            tag_ids=[tag.id]\n",
    "        ))\n",
    "        "
   ]
  },
  {
   "cell_type": "code",
   "execution_count": 98,
   "metadata": {},
   "outputs": [],
   "source": [
    "batch_size = 64\n",
    "image_batches = [image_list[i:i + batch_size] for i in range(0, len(image_list), \n",
    "                                                             batch_size)] "
   ]
  },
  {
   "cell_type": "code",
   "execution_count": 103,
   "metadata": {},
   "outputs": [
    {
     "name": "stdout",
     "output_type": "stream",
     "text": [
      "Uploading images...\n"
     ]
    }
   ],
   "source": [
    "print(\"Uploading images...\")\n",
    "\n",
    "# delete previous images\n",
    "trainer.delete_images(project.id, all_images=True, all_iterations=True)\n",
    "\n",
    "for batch in image_batches:\n",
    "    upload_result = trainer.create_images_from_urls(\n",
    "        project.id,\n",
    "        ImageUrlCreateBatch(images=batch)\n",
    "    )"
   ]
  },
  {
   "cell_type": "code",
   "execution_count": 104,
   "metadata": {},
   "outputs": [
    {
     "name": "stdout",
     "output_type": "stream",
     "text": [
      "Training...\n"
     ]
    }
   ],
   "source": [
    "print (\"Training...\")\n",
    "iteration = trainer.train_project(project.id)\n",
    "while (iteration.status != \"Completed\"):\n",
    "    iteration = trainer.get_iteration(project.id, iteration.id)\n",
    "    time.sleep(10)"
   ]
  },
  {
   "cell_type": "code",
   "execution_count": 105,
   "metadata": {},
   "outputs": [],
   "source": [
    "publish_iteration_name = \"Mushroom Classifier\"\n",
    "trainer.publish_iteration(project.id, iteration.id, publish_iteration_name,\n",
    "                          config[\"prediction_resource_id\"]);"
   ]
  },
  {
   "cell_type": "code",
   "execution_count": 115,
   "metadata": {},
   "outputs": [
    {
     "name": "stdout",
     "output_type": "stream",
     "text": [
      "Precision: 0.8385995\n",
      "Recal: 0.77261996\n",
      "Average Precision: 0.86605173\n"
     ]
    }
   ],
   "source": [
    "iteration_performance = trainer.get_iteration_performance(project.id, iteration.id, threshold=0.5)\n",
    "print(\"Precision:\", iteration_performance.precision)\n",
    "print(\"Recal:\", iteration_performance.recall)\n",
    "print(\"Average Precision:\", iteration_performance.average_precision)"
   ]
  }
 ],
 "metadata": {
  "kernelspec": {
   "display_name": "Python 3",
   "language": "python",
   "name": "python3"
  },
  "language_info": {
   "codemirror_mode": {
    "name": "ipython",
    "version": 3
   },
   "file_extension": ".py",
   "mimetype": "text/x-python",
   "name": "python",
   "nbconvert_exporter": "python",
   "pygments_lexer": "ipython3",
   "version": "3.7.3"
  }
 },
 "nbformat": 4,
 "nbformat_minor": 4
}
