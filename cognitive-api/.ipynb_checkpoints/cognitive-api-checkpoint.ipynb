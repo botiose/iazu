{
 "cells": [
  {
   "cell_type": "code",
   "execution_count": 8,
   "metadata": {},
   "outputs": [],
   "source": [
    "from azure.cognitiveservices.vision.customvision.training import (\n",
    "    CustomVisionTrainingClient\n",
    ")\n",
    "from azure.cognitiveservices.vision.customvision.prediction import (\n",
    "    CustomVisionPredictionClient\n",
    ")\n",
    "from azure.cognitiveservices.vision.customvision.training.models import (\n",
    "    ImageFileCreateBatch,\n",
    "    ImageFileCreateEntry, \n",
    "    Region\n",
    ")\n",
    "from msrest.authentication import ApiKeyCredentials\n",
    "import os, time, uuid, json"
   ]
  },
  {
   "cell_type": "code",
   "execution_count": 15,
   "metadata": {},
   "outputs": [],
   "source": [
    "config_path = \"/home/otiose/repos/epita/iazu/cognitive-service/config.json\""
   ]
  },
  {
   "cell_type": "code",
   "execution_count": 17,
   "metadata": {},
   "outputs": [],
   "source": [
    "config = json.load(open(config_path, 'r'))"
   ]
  },
  {
   "cell_type": "code",
   "execution_count": null,
   "metadata": {},
   "outputs": [],
   "source": []
  }
 ],
 "metadata": {
  "kernelspec": {
   "display_name": "Python 3",
   "language": "python",
   "name": "python3"
  },
  "language_info": {
   "codemirror_mode": {
    "name": "ipython",
    "version": 3
   },
   "file_extension": ".py",
   "mimetype": "text/x-python",
   "name": "python",
   "nbconvert_exporter": "python",
   "pygments_lexer": "ipython3",
   "version": "3.7.3"
  }
 },
 "nbformat": 4,
 "nbformat_minor": 4
}
