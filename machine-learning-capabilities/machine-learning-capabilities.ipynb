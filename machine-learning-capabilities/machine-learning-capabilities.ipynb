{
 "cells": [
  {
   "cell_type": "markdown",
   "metadata": {},
   "source": [
    "<h1>Machine learning capabilities<\\h1>"
   ]
  },
  {
   "cell_type": "markdown",
   "metadata": {},
   "source": [
    "<h3>Library imports & Configurations</h3>"
   ]
  },
  {
   "cell_type": "code",
   "execution_count": 41,
   "metadata": {},
   "outputs": [],
   "source": [
    "import urllib.request\n",
    "import json"
   ]
  },
  {
   "cell_type": "code",
   "execution_count": 42,
   "metadata": {},
   "outputs": [],
   "source": [
    "base_dir = \"/home/otiose/repos/epita/iazu/machine-learning-capabilities/\"\n",
    "config_path = base_dir + \"config.json\"\n",
    "config = json.load(open(config_path, 'r'))"
   ]
  },
  {
   "cell_type": "code",
   "execution_count": 43,
   "metadata": {},
   "outputs": [],
   "source": [
    "def reformat_response(response):\n",
    "    res_map = {\"p\": \"poisonous\", \"e\": \"edible\"}\n",
    "    return [res_map[val] for val in response]    "
   ]
  },
  {
   "cell_type": "code",
   "execution_count": 49,
   "metadata": {},
   "outputs": [],
   "source": [
    "def get_prediction(resource):\n",
    "    automl_body_path = base_dir + resource + \"-body.json\"\n",
    "    headers = {\n",
    "        \"Content-Type\": \"application/json\", \n",
    "        \"Authorization\": \"Bearer \" + config[resource + \"_api_key\"]\n",
    "    }\n",
    "    body = str.encode(json.dumps(json.load(open(automl_body_path, \"r\"))))\n",
    "\n",
    "    request = urllib.request.Request(config[resource + \"_url\"], body, headers)\n",
    "    response = json.loads(urllib.request.urlopen(request).read())\n",
    "    if resource == \"automl\":\n",
    "        response = json.loads(response)\n",
    "    return response"
   ]
  },
  {
   "cell_type": "markdown",
   "metadata": {},
   "source": [
    "<h2>Auto ML</h2>"
   ]
  },
  {
   "cell_type": "code",
   "execution_count": 51,
   "metadata": {},
   "outputs": [
    {
     "name": "stdout",
     "output_type": "stream",
     "text": [
      "['poisonous']\n"
     ]
    }
   ],
   "source": [
    "response = get_prediction(\"automl\")\n",
    "print(reformat_response(response[\"result\"]))"
   ]
  },
  {
   "cell_type": "markdown",
   "metadata": {},
   "source": [
    "<h2>ML Studio</h2>"
   ]
  },
  {
   "cell_type": "code",
   "execution_count": 54,
   "metadata": {},
   "outputs": [
    {
     "name": "stdout",
     "output_type": "stream",
     "text": [
      "['poisonous']\n"
     ]
    }
   ],
   "source": [
    "response = get_prediction(\"mlstudio\")\n",
    "print(reformat_response(response[\"Results\"][\"output1\"][\"value\"][\"Values\"][0]))"
   ]
  }
 ],
 "metadata": {
  "kernelspec": {
   "display_name": "Python 3",
   "language": "python",
   "name": "python3"
  },
  "language_info": {
   "codemirror_mode": {
    "name": "ipython",
    "version": 3
   },
   "file_extension": ".py",
   "mimetype": "text/x-python",
   "name": "python",
   "nbconvert_exporter": "python",
   "pygments_lexer": "ipython3",
   "version": "3.7.3"
  }
 },
 "nbformat": 4,
 "nbformat_minor": 4
}
