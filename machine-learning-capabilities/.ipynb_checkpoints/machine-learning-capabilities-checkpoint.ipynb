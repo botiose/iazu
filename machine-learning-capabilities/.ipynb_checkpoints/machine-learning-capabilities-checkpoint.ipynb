{
 "cells": [
  {
   "cell_type": "code",
   "execution_count": 5,
   "metadata": {},
   "outputs": [],
   "source": [
    "import urllib\n",
    "import urllib.request\n",
    "import json"
   ]
  },
  {
   "cell_type": "code",
   "execution_count": 6,
   "metadata": {},
   "outputs": [],
   "source": [
    "body_path = \"/home/otiose/repos/epita/iazu/ml-studio/body.json\"\n",
    "config_path = \"/home/otiose/repos/epita/iazu/ml-studio/config.json\""
   ]
  },
  {
   "cell_type": "code",
   "execution_count": 7,
   "metadata": {},
   "outputs": [
    {
     "name": "stdout",
     "output_type": "stream",
     "text": [
      "['poisonous']\n"
     ]
    }
   ],
   "source": [
    "config = json.load(open(config_path, 'r'))\n",
    "\n",
    "headers = {\n",
    "    \"Content-Type\": \"application/json\", \n",
    "    \"Authorization\": \"Bearer \" + config[\"api_key\"]\n",
    "}\n",
    "body = str.encode(json.dumps(json.load(open(body_path, 'r'))))\n",
    "\n",
    "request = urllib.request.Request(config[\"url\"], body, headers)\n",
    "response = json.loads(urllib.request.urlopen(request).read())\n",
    "\n",
    "predictions = response[\"Results\"][\"output1\"][\"value\"][\"Values\"][0]\n",
    "\n",
    "res_map = {\"p\": \"poisonous\", \"e\": \"edible\"}\n",
    "\n",
    "reformat_pred = [res_map[val] for val in predictions]\n",
    "\n",
    "print(reformat_pred)"
   ]
  }
 ],
 "metadata": {
  "kernelspec": {
   "display_name": "Python 3",
   "language": "python",
   "name": "python3"
  },
  "language_info": {
   "codemirror_mode": {
    "name": "ipython",
    "version": 3
   },
   "file_extension": ".py",
   "mimetype": "text/x-python",
   "name": "python",
   "nbconvert_exporter": "python",
   "pygments_lexer": "ipython3",
   "version": "3.7.3"
  }
 },
 "nbformat": 4,
 "nbformat_minor": 4
}
